{
 "cells": [
  {
   "cell_type": "code",
   "execution_count": 41,
   "id": "9e4a795b-dd9c-4aa4-8727-070da67e6e7d",
   "metadata": {},
   "outputs": [],
   "source": [
    "# Types and Structures Theoritical Questions**********************************************************************************"
   ]
  },
  {
   "cell_type": "code",
   "execution_count": null,
   "id": "73a048c2-4f40-4483-92f3-9208ac5b85f6",
   "metadata": {},
   "outputs": [],
   "source": [
    "'''\n",
    "#_1.What are data structures, and why are they important?\n",
    "--Data Structure is the way of organizing and storing data in that way, Such that the can easily be assesed and manipulated(means insert,delete, \n",
    "  update etc) in    a effecient way.\n",
    "--Data strutures are important because they help in efficient data management, optimtize performance by using the concept of time complexity and space   \n",
    "  complexity, proper memory utilization, and better problem solving.\n",
    "\n",
    "\n",
    "#_2.Explain the difference between mutable and immutable data types with examples?\n",
    "--Mutable: Whose value can be change/modify after the creation\n",
    "  Example:Lists,sets,Dictionaries\n",
    "--Immutabale:Whose value cannot be change/modify after the creation\n",
    "  Example:String,tuple,Integers, Floats, Booleans\n",
    "\n",
    "\n",
    "#_3.What are the main differences between lists and tuples in Python?\n",
    "--First difference is Delration:\n",
    "  When we declare list we use double square brakets \"[]\" and when we declare tuples we use double parenthesis \"()\".\n",
    "--Second difference :\n",
    "  Lists are mutable in nature but tuples are inmmutable in nature.\n",
    "\n",
    "\n",
    "#_4.Describe how dictionaries store data?\n",
    "--Dictionaries are mutable in nature and it stores data as key, value pairs.\n",
    "  Example: student = {\"name\": \"Tirtha\", \"age\": 24, \"course\": \"Python\"}\n",
    "  Here name, age ,course are treated as \"Key\" and Tirtha,24,Python are treated as \"Value\".\n",
    "\n",
    "\n",
    "#_5.Why might you use a set instead of a list in Python\n",
    "--We use set instead of a list in python because set prvents duplicate values where as list can store duplicate value.\n",
    "  Also set have uniqueness value means it remove duplicate value.\n",
    "  And set can peoform mathmatical/set operations(Union,Intersection,Difference) where list cannot do.\n",
    "\n",
    "\n",
    "#_6.What is a string in Python, and how is it different from a list\n",
    "--In python string is a sequenc of character. anything written in between  duble qotes (\"\") is treated as string. And we use plus(+) operator \n",
    "  for cancatination    of two string.\n",
    "--The main differnece of string from a list is that String are immutable in nature but lists are mutable in nature.\n",
    "\n",
    "\n",
    "#_7.How do tuples ensure data integrity in Python\n",
    "-- Same as string , tuples are immutable, meaning their element cannot be changed, added, or removed after the creation.\n",
    "   So this immutable nature ensure that tuples are data integrity in python.\n",
    "\n",
    "\n",
    "#_8.What is a hash table, and how does it relate to dictionaries in Python\n",
    "--A hash table is a data structure that stores key-value pairs and allows for fast retrieval of values based on keys.\n",
    "  In pyhton Dictinories are the data structure which also stores data as key value pairs.This allow fast key looksup, insertion, deletion operation as like hash   table\n",
    "\n",
    "\n",
    "#_9.Can lists contain different data types in Python\n",
    "--Yes, lists can contain differnt data types in python because it is hetrogenious in nature.\n",
    "  Example: gc=[\"milk\" , 1,2.2, True, 5+6j]\n",
    "   ouptput: ['milk', 1, 2.2, True, (5+6j)]\n",
    "\n",
    "\n",
    "#_10.Explain why strings are immutable in Python\n",
    "--In Python, strings are immutable, meaning their value/data cannot be changed after they are created. If you try to modify a string, Python creates a new         string instead of modifying the existing one.\n",
    "  Example: s1 = \"hello\"\n",
    "           s2 = \"hello\"\n",
    "           print(id(s1))  \n",
    "           print(id(s2))\n",
    "  Here in the above example memory location of string s1 and string s2 are same.\n",
    "  And some reasons like Memory Efficiency, Memory Efficiency says that string are immuatable in nature.\n",
    "\n",
    "\n",
    "#_11.What advantages do dictionaries offer over lists for certain tasks?\n",
    "--First advantages is \"Dictionaries offer key-value mapping\"\n",
    "  Faster lookups (O(1) average time complexity) compared to lists (O(n) for searching).\n",
    "  Uniqueness of Keys – Prevents duplicate keys, ensuring data integrity.\n",
    "  Flexible Data Storage\n",
    "\n",
    "\n",
    "#_12.How do sets handle duplicate values in Python?\n",
    "--As we know in python sets are unique collection of elements. So it do not contain any duplicate value.\n",
    "  So in python set properties remove automatically duplicate values.\n",
    "  Example:\n",
    "  s={1,2,3,3,4,5,6,6}\n",
    "  print(s)\n",
    "  OUTPUT: {1,2,3,4,5,6}\n",
    "\n",
    "#_13.Describe a scenario where using a tuple would be preferable over a list\n",
    "--The scenario where if we do not want to modify the data,then we will use tuples as a data structure and it is more prefarable over a list.\n",
    "  Example:Scenario: Storing Days of the Week\n",
    "  days_of_week = (\"Monday\", \"Tuesday\", \"Wednesday\", \"Thursday\", \"Friday\", \"Saturday\", \"Sunday\")\n",
    "  The days of the week never change, so using a tuple ensures immutability.\n",
    "\n",
    "\n",
    "#_14.How does the “in” keyword work differently for lists and dictionaries\n",
    "--For Lists:\n",
    "  The in keyword checks whether a specific element exists in the list.\n",
    "   Example:\n",
    "   my_list = [1, 2, 3, 4, 5]\n",
    "   print(3 in my_list)  # Output: True\n",
    "   print(6 in my_list)  # Output: False\n",
    "--For Dictionaries:\n",
    "  The in keyword checks for the presence of a key, not a value.\n",
    "   Example:\n",
    "   my_dict = {'a': 10, 'b': 20, 'c': 30}\n",
    "   print('a' in my_dict)  # Output: True (checks keys)\n",
    "   print(10 in my_dict)   # Output: False (does not check values)\n",
    "   print(10 in my_dict.values())  # Output: True  (But explicitly we can call the values)\n",
    "\n",
    "\n",
    "#_15.Can you modify the elements of a tuple? Explain why or why not?\n",
    "--No, we cannot modify the elements of a tuple.\n",
    "  Because tuples are immutable in nature.\n",
    "\n",
    "#_16.What is a nested dictionary, and give an example of its use case?\n",
    "--Nested dictionary:\n",
    "  A nested dictionary is a dictionary inside another dictionary. \n",
    "\n",
    "   Example:\n",
    "   students = {\n",
    "    \"101\": {\"name\": \"Tirtha\", \"age\": 25, \"courses\": [\"Python\", \"Data Science\"]},\n",
    "    \"102\": {\"name\": \"Trupti\", \"age\": 21, \"courses\": [\"Java\", \"Springboot\"]},\n",
    "   }\n",
    "\n",
    "   Accessing data\n",
    "   print(students[\"101\"][\"name\"])  # Output: Alice\n",
    "   print(students[\"102\"][\"courses\"])  # Output: ['Biology', 'Chemistry']\n",
    "\n",
    "--Use Cases:\n",
    "  Storing hierarchical data (e.g., JSON-like structures)\n",
    "  Managing database-like records in Python\n",
    "\n",
    "\n",
    "#_17.Describe the time complexity of accessing elements in a dictionary?\n",
    "--The time complexity of accessing elements in a dictionary depends on the hashing mechanism.\n",
    "  Average Case: O(1) – Dictionaries use a hash table, allowing direct access to values using keys in constant time.\n",
    "  Worst Case: O(n) – In rare cases of hash collisions, multiple keys map to the same bucket, requiring a linear search within that bucket.\n",
    "\n",
    "\n",
    "#_18.In what situations are lists preferred over dictionaries?\n",
    "--Ordered Data Storage – Lists maintain the order of elements, while dictionaries (before Python 3.7) did not.\n",
    "  Sequential Processing – When elements need to be accessed in order, such as in loops or iterations.\n",
    "  Memory Efficiency – Lists generally consume less memory than dictionaries since dictionaries store additional metadata (keys and hash values).\n",
    "  Duplicate Values – Lists allow duplicate elements, whereas dictionaries require unique keys.\n",
    "  Index-Based Access – If elements are frequently accessed by position rather than by a key, lists are more suitable.\n",
    "  Simple Data Storage – When a collection of values is needed without key-value mapping, such as storing numbers, strings, or objects.\n",
    "\n",
    "\n",
    "#_19.Why are dictionaries considered unordered, and how does that affect data retrieval?\n",
    "--Dictionaries were traditionally considered unordered because they used hash tables to store key-value pairs, where the position of elements in memory was \n",
    "  determined by hash functions rather than insertion order.This meant retrieval order was unpredictable in earlier Python versions.\n",
    "  \n",
    "\n",
    "#_20.Explain the difference between a list and a dictionary in terms of data retrieval?\n",
    "--Access Method\n",
    "  List: Elements are accessed using an index (e.g., list[2]).\n",
    "  Example: \n",
    "    fruits = [\"apple\", \"banana\", \"cherry\"]\n",
    "    print(fruits[1])  # Output: banana\n",
    "\n",
    "  Dictionary: Elements are accessed using a key (e.g., dict[\"name\"]).\n",
    "  Example:\n",
    "    fruit_prices = {\"apple\": 1.5, \"banana\": 0.75, \"cherry\": 2.0}\n",
    "    print(fruit_prices[\"banana\"])  # Output: 0.75\n",
    "\n",
    "\n",
    "'''"
   ]
  },
  {
   "cell_type": "code",
   "execution_count": null,
   "id": "93840e7d-38e1-438f-911f-c7d8947d754e",
   "metadata": {},
   "outputs": [],
   "source": []
  },
  {
   "cell_type": "code",
   "execution_count": null,
   "id": "1207c98c-9516-4740-a9f6-1eb55857b820",
   "metadata": {},
   "outputs": [],
   "source": []
  },
  {
   "cell_type": "code",
   "execution_count": 42,
   "id": "b56bdc37-ed3d-4edd-bdae-253e9b32f4ab",
   "metadata": {},
   "outputs": [],
   "source": [
    "#Practical Questions***********************************************************************************************************"
   ]
  },
  {
   "cell_type": "code",
   "execution_count": 43,
   "id": "82ec38b9-a38e-4899-93c9-9bc91c2039bc",
   "metadata": {},
   "outputs": [
    {
     "name": "stdout",
     "output_type": "stream",
     "text": [
      "Tirtha Sahu\n"
     ]
    }
   ],
   "source": [
    "# 1.Write a code to create a string with your name and print it?\n",
    "\n",
    "str=\"Tirtha Sahu\"\n",
    "print(str)"
   ]
  },
  {
   "cell_type": "code",
   "execution_count": 44,
   "id": "9062f600-9ffc-4eac-b4d2-8f80d8590f33",
   "metadata": {},
   "outputs": [
    {
     "name": "stdout",
     "output_type": "stream",
     "text": [
      "Length of the strings :  11\n"
     ]
    }
   ],
   "source": [
    "# 2.Write a code to find the length of the string \"Hello World\"\n",
    "\n",
    "str=\"Hello World\"\n",
    "print(\"Length of the strings : \",len(str))"
   ]
  },
  {
   "cell_type": "code",
   "execution_count": 45,
   "id": "6c61d3df-0f8d-4d14-8d48-8a42ffcdc882",
   "metadata": {},
   "outputs": [
    {
     "name": "stdout",
     "output_type": "stream",
     "text": [
      "1_Slicing of the first three character is :  Pyt\n",
      "2_Slicing of the first three character is :  Pyt\n"
     ]
    }
   ],
   "source": [
    "# 3.Write a code to slice the first 3 characters from the string \"Python Programming\"\n",
    "\n",
    "str=\"Python Programming\"\n",
    "print(\"1_Slicing of the first three character is : \",str[0:3])\n",
    "print(\"2_Slicing of the first three character is : \",str[:3])"
   ]
  },
  {
   "cell_type": "code",
   "execution_count": 46,
   "id": "5cf3a69e-ed51-4962-ae9c-f0b4b459c709",
   "metadata": {},
   "outputs": [
    {
     "name": "stdout",
     "output_type": "stream",
     "text": [
      "upper case of the string \"hello\" is :  HELLO\n"
     ]
    }
   ],
   "source": [
    "# 4.Write a code to convert the string \"hello\" to uppercase\n",
    "\n",
    "str=\"hello\"\n",
    "print('''upper case of the string \"hello\" is : ''',str.upper())"
   ]
  },
  {
   "cell_type": "code",
   "execution_count": 47,
   "id": "5cb9382d-4d72-460f-ada2-b0bca96103e8",
   "metadata": {},
   "outputs": [
    {
     "name": "stdout",
     "output_type": "stream",
     "text": [
      "I like orange\n"
     ]
    }
   ],
   "source": [
    "# 5.Write a code to replace the word \"apple\" with \"orange\" in the string \"I like apple\"\n",
    "\n",
    "str=\"I like apple\"\n",
    "str_replace=str.replace(\"apple\",\"orange\")\n",
    "print(str_replace)"
   ]
  },
  {
   "cell_type": "code",
   "execution_count": 48,
   "id": "f6d4d7da-b092-4d7f-8d0b-da9d7424c01f",
   "metadata": {},
   "outputs": [
    {
     "name": "stdout",
     "output_type": "stream",
     "text": [
      "[1, 2, 3, 4, 5]\n"
     ]
    }
   ],
   "source": [
    "# 6.Write a code to create a list with numbers 1 to 5 and print it\n",
    "\n",
    "list_num=[1,2,3,4,5]\n",
    "print(list_num)"
   ]
  },
  {
   "cell_type": "code",
   "execution_count": 49,
   "id": "fb568b39-15da-4699-a4c7-208e43adc894",
   "metadata": {},
   "outputs": [
    {
     "name": "stdout",
     "output_type": "stream",
     "text": [
      "Before Append :  [1, 2, 3, 4]\n",
      "After Append :   [1, 2, 3, 4, 10]\n"
     ]
    }
   ],
   "source": [
    "# 7.Write a code to append the number 10 to the list [1, 2, 3, 4]\n",
    "\n",
    "list=[1, 2, 3, 4]\n",
    "print(\"Before Append : \",list)\n",
    "list.append(10)\n",
    "print(\"After Append :  \",list)"
   ]
  },
  {
   "cell_type": "code",
   "execution_count": 50,
   "id": "fcaa7e9c-ae92-42a3-b41b-20bdb78997c8",
   "metadata": {},
   "outputs": [
    {
     "name": "stdout",
     "output_type": "stream",
     "text": [
      "Before Append :  [1, 2, 3, 4, 5]\n",
      "After Append :   [1, 2, 4, 5]\n"
     ]
    }
   ],
   "source": [
    "# 8.Write a code to remove the number 3 from the list [1, 2, 3, 4, 5]\n",
    "\n",
    "list=[1, 2, 3, 4, 5]\n",
    "print(\"Before Append : \",list)\n",
    "indexof_num3=list.index(3)\n",
    "list.pop(indexof_num3)\n",
    "print(\"After Append :  \",list)"
   ]
  },
  {
   "cell_type": "code",
   "execution_count": 51,
   "id": "d02bd24d-d6b8-4bc9-8b5b-29e5f34272df",
   "metadata": {},
   "outputs": [
    {
     "name": "stdout",
     "output_type": "stream",
     "text": [
      "Second element in the list is :  b\n"
     ]
    }
   ],
   "source": [
    "# 9.Write a code to access the second element in the list ['a', 'b', 'c', 'd']\n",
    "\n",
    "list=['a', 'b', 'c', 'd']\n",
    "print(\"Second element in the list is : \",list[1])\n"
   ]
  },
  {
   "cell_type": "code",
   "execution_count": 52,
   "id": "825b2d61-6a61-4bc5-b1ee-a46c3876f20e",
   "metadata": {},
   "outputs": [
    {
     "name": "stdout",
     "output_type": "stream",
     "text": [
      "Method1_Reverse list :  [50, 40, 30, 20, 10]\n",
      "Method2_Reverse list :  [10, 20, 30, 40, 50]\n"
     ]
    }
   ],
   "source": [
    "# 10.Write a code to reverse the list [10, 20, 30, 40, 50].\n",
    "\n",
    "list=[10, 20, 30, 40, 50]\n",
    "list.reverse()\n",
    "print(\"Method1_Reverse list : \",list)\n",
    "reverse_list=list[::-1]\n",
    "print(\"Method2_Reverse list : \",reverse_list)"
   ]
  },
  {
   "cell_type": "code",
   "execution_count": 53,
   "id": "67272016-2720-42cc-8a78-8b082209bbc0",
   "metadata": {},
   "outputs": [
    {
     "name": "stdout",
     "output_type": "stream",
     "text": [
      "(100, 200, 300)\n"
     ]
    }
   ],
   "source": [
    "# 11. Write a code to create a tuple with the elements 100, 200, 300 and print it.\n",
    "\n",
    "t=(100,200,300)\n",
    "print(t)"
   ]
  },
  {
   "cell_type": "code",
   "execution_count": 54,
   "id": "e48a58f8-7c4e-458f-9e54-86b30645ef07",
   "metadata": {},
   "outputs": [
    {
     "name": "stdout",
     "output_type": "stream",
     "text": [
      "('green', 'blue', 'yellow')\n"
     ]
    }
   ],
   "source": [
    "# 12. Write a code to access the second-to-last element of the tuple ('red', 'green', 'blue', 'yellow').\n",
    "t=('red', 'green', 'blue', 'yellow')\n",
    "print(t[1:])"
   ]
  },
  {
   "cell_type": "code",
   "execution_count": 55,
   "id": "28ce1c3c-d40a-43a7-8c73-3947ad94638f",
   "metadata": {},
   "outputs": [
    {
     "name": "stdout",
     "output_type": "stream",
     "text": [
      "20\n"
     ]
    }
   ],
   "source": [
    "# 13. Write a code to find the minimum number in the tuple (10, 20, 5, 15).\n",
    "\n",
    "t=(10, 20, 5, 15)\n",
    "print(max(t))"
   ]
  },
  {
   "cell_type": "code",
   "execution_count": 56,
   "id": "546ecef6-4316-418d-bc37-d5bc607a60d3",
   "metadata": {},
   "outputs": [
    {
     "name": "stdout",
     "output_type": "stream",
     "text": [
      "Index of the element \"cat\" is :  1\n"
     ]
    }
   ],
   "source": [
    "# 14. Write a code to find the index of the element \"cat\" in the tuple ('dog', 'cat', 'rabbit').\n",
    "\n",
    "t=('dog', 'cat', 'rabbit')\n",
    "print(\"\"\"Index of the element \"cat\" is : \"\"\",t.index('cat'))"
   ]
  },
  {
   "cell_type": "code",
   "execution_count": 57,
   "id": "427ac8af-5512-43a3-9be7-2e362b521f28",
   "metadata": {},
   "outputs": [
    {
     "name": "stdout",
     "output_type": "stream",
     "text": [
      "\"Kiwi\" is persent in the fruit tuple\n"
     ]
    }
   ],
   "source": [
    "# 15. Write a code to create a tuple containing three different fruits and check if \"kiwi\" is in it.\n",
    "fruit=(\"banana\",\"kiwi\",\"orange\")\n",
    "if \"kiwi\" in fruit:\n",
    "    print('''\"Kiwi\" is persent in the fruit tuple''')\n",
    "else:\n",
    "    print('''\"Kiwi\" is not persent in the fruit tuple''')"
   ]
  },
  {
   "cell_type": "code",
   "execution_count": 58,
   "id": "77ebdd49-505c-4a06-885b-24302c0d7b53",
   "metadata": {},
   "outputs": [
    {
     "name": "stdout",
     "output_type": "stream",
     "text": [
      "{'c', 'b', 'a'}\n"
     ]
    }
   ],
   "source": [
    "# 16. Write a code to create a set with the elements 'a', 'b', 'c' and print it.\n",
    "\n",
    "s={'a','b','c'}\n",
    "print(s)"
   ]
  },
  {
   "cell_type": "code",
   "execution_count": 59,
   "id": "28f300e0-626c-437f-84ab-7dacc4bc290c",
   "metadata": {},
   "outputs": [
    {
     "name": "stdout",
     "output_type": "stream",
     "text": [
      "set()\n"
     ]
    }
   ],
   "source": [
    "# 17. Write a code to clear all elements from the set {1, 2, 3, 4, 5}.\n",
    "s1={1, 2, 3, 4, 5}\n",
    "s1.clear()\n",
    "print(s1)"
   ]
  },
  {
   "cell_type": "code",
   "execution_count": 60,
   "id": "dd3ee85e-bf37-4b56-b099-e99f75c2a72b",
   "metadata": {},
   "outputs": [
    {
     "name": "stdout",
     "output_type": "stream",
     "text": [
      "Before Remove :  {1, 2, 3, 4}\n",
      "Before Remove :  {1, 2, 3}\n"
     ]
    }
   ],
   "source": [
    "# 18. Write a code to remove the element 4 from the set {1, 2, 3, 4}.\n",
    "\n",
    "s2={1, 2, 3, 4}\n",
    "print(\"Before Remove : \",s2)\n",
    "s2.remove(4)\n",
    "print(\"Before Remove : \",s2)"
   ]
  },
  {
   "cell_type": "code",
   "execution_count": 61,
   "id": "5903a736-6209-4566-990a-c4371acb5778",
   "metadata": {},
   "outputs": [
    {
     "name": "stdout",
     "output_type": "stream",
     "text": [
      "Union of the two sets are :  {1, 2, 3, 4, 5}\n"
     ]
    }
   ],
   "source": [
    "# 19. Write a code to find the union of two sets {1, 2, 3} and {3, 4, 5}.\n",
    "\n",
    "set1={1, 2, 3}\n",
    "set2={3, 4, 5}\n",
    "print(\"Union of the two sets are : \",set1|set2)"
   ]
  },
  {
   "cell_type": "code",
   "execution_count": 62,
   "id": "56ab1563-5a2c-45f3-b92e-f79010598347",
   "metadata": {},
   "outputs": [
    {
     "name": "stdout",
     "output_type": "stream",
     "text": [
      "Intersection of the two sets are :  {3}\n"
     ]
    }
   ],
   "source": [
    "# 20. Write a code to find the intersection of two sets {1, 2, 3} and {2, 3, 4}.\n",
    "\n",
    "set1={1, 2, 3}\n",
    "set2={3, 4, 5}\n",
    "print(\"Intersection of the two sets are : \",set1&set2)"
   ]
  },
  {
   "cell_type": "code",
   "execution_count": 63,
   "id": "f63071c4-83c2-47d0-b730-3ed35e798308",
   "metadata": {},
   "outputs": [
    {
     "name": "stdout",
     "output_type": "stream",
     "text": [
      "{'name': 'Tirtha Sahu', 'age': 25, 'city': 'Berhampur'}\n"
     ]
    }
   ],
   "source": [
    "# 21. Write a code to create a dictionary with the keys \"name\", \"age\", and \"city\", and print it.\n",
    "\n",
    "dict1={\n",
    "    \"name\":\"Tirtha Sahu\",\n",
    "     \"age\" :25,\n",
    "    \"city\":\"Berhampur\"\n",
    "}\n",
    "\n",
    "print(dict1)"
   ]
  },
  {
   "cell_type": "code",
   "execution_count": 64,
   "id": "461c666f-2ad8-49d0-ba88-e3ce054ddefd",
   "metadata": {},
   "outputs": [
    {
     "name": "stdout",
     "output_type": "stream",
     "text": [
      "Before add :  {'name': 'John', 'age': 25}\n",
      "After add :  {'name': 'John', 'age': 25, 'country': 'USA'}\n"
     ]
    }
   ],
   "source": [
    "# 22. Write a code to add a new key-value pair \"country\": \"USA\" to the dictionary {'name': 'John', 'age': 25}.\n",
    " #result.(replaced)\n",
    "\n",
    "dict2={'name': 'John', 'age': 25}\n",
    "print(\"Before add : \",dict2)\n",
    "dict2[\"country\"]=\"USA\"\n",
    "print(\"After add : \",dict2)"
   ]
  },
  {
   "cell_type": "code",
   "execution_count": 65,
   "id": "1d9ce920-e7be-4bc2-ad36-0b9014322fa5",
   "metadata": {},
   "outputs": [
    {
     "name": "stdout",
     "output_type": "stream",
     "text": [
      "Method1 for access key \"name\" :  Alice\n",
      "Method2 for access key \"name\" :  Alice\n"
     ]
    }
   ],
   "source": [
    "# 23. Write a code to access the value associated with the key \"name\" in the dictionary {'name': 'Alice', 'age': 30}.\n",
    "\n",
    "dict3={'name': 'Alice', 'age': 30}\n",
    "print(\"\"\"Method1 for access key \"name\" : \"\"\",dict3[\"name\"])\n",
    "print(\"\"\"Method2 for access key \"name\" : \"\"\",dict3.get(\"name\"))"
   ]
  },
  {
   "cell_type": "code",
   "execution_count": 66,
   "id": "d7bd4f5b-6eab-4dc9-8ce2-dea18bc0fc76",
   "metadata": {},
   "outputs": [
    {
     "name": "stdout",
     "output_type": "stream",
     "text": [
      "Before Remove :  {'name': 'Bob', 'age': 22, 'city': 'New York'}\n",
      "After remove :  {'name': 'Bob', 'city': 'New York'}\n"
     ]
    }
   ],
   "source": [
    "# 24. Write a code to remove the key \"age\" from the dictionary {'name': 'Bob', 'age': 22, 'city': 'New York'}.\n",
    "\n",
    "dict4={'name': 'Bob', 'age': 22, 'city': 'New York'}\n",
    "print(\"Before Remove : \",dict4)\n",
    "dict4.pop(\"age\")\n",
    "print(\"After remove : \",dict4)"
   ]
  },
  {
   "cell_type": "code",
   "execution_count": 67,
   "id": "15217585-f589-4edc-abea-6feee7427c5e",
   "metadata": {},
   "outputs": [
    {
     "name": "stdout",
     "output_type": "stream",
     "text": [
      "Key \"city\" exist in the dictionary\n"
     ]
    }
   ],
   "source": [
    "# 25. Write a code to check if the key \"city\" exists in the dictionary {'name': 'Alice', 'city': 'Paris'}.\n",
    "\n",
    "dict5={'name': 'Alice', 'city': 'Paris'}\n",
    "if \"city\" in dict5:\n",
    "    print('''Key \"city\" exist in the dictionary''')\n",
    "else:\n",
    "     print('''Key \"city\" does not exist in the dictionary''')"
   ]
  },
  {
   "cell_type": "code",
   "execution_count": 68,
   "id": "6800816c-5b5e-43a1-a469-82869993e0ae",
   "metadata": {},
   "outputs": [
    {
     "name": "stdout",
     "output_type": "stream",
     "text": [
      "LIST :  ['father', 'mother', 'brother', 'sister']\n",
      "TUPLE :  ('father', 'mother', 'brother', 'sister')\n",
      "DICTIONARY :  {'father': 'Biswanth Sahu', 'mother': 'Sabisubha Sahu', 'brother': 'Tusar Sahu', 'Sister': 'Trupti Mayi Sahu'}\n"
     ]
    }
   ],
   "source": [
    "# 26. Write a code to create a list, a tuple, and a dictionary, and print them all.\n",
    "list1=[\"father\",\"mother\",\"brother\", \"sister\"]\n",
    "print(\"LIST : \",list1)\n",
    "\n",
    "tuple1=(\"father\",\"mother\",\"brother\", \"sister\")\n",
    "print(\"TUPLE : \",tuple1)\n",
    "\n",
    "dictionary1={\n",
    "    \"father\":\"Biswanth Sahu\",\n",
    "    \"mother\":\"Sabisubha Sahu\",\n",
    "    \"brother\":\"Tusar Sahu\",\n",
    "    \"Sister\":\"Trupti Mayi Sahu\"\n",
    "}\n",
    "print(\"DICTIONARY : \",dictionary1)"
   ]
  },
  {
   "cell_type": "code",
   "execution_count": 69,
   "id": "6b37becb-1440-4fec-9316-8a1b575d77b7",
   "metadata": {},
   "outputs": [
    {
     "name": "stdout",
     "output_type": "stream",
     "text": [
      "After sort it in ascending order : \n"
     ]
    },
    {
     "data": {
      "text/plain": [
       "[25, 32, 55, 76, 98]"
      ]
     },
     "execution_count": 69,
     "metadata": {},
     "output_type": "execute_result"
    }
   ],
   "source": [
    "# 27. Write a code to create a list of 5 random numbers between 1 and 100, sort it in ascending order, and print the result. (replaced)\n",
    "\n",
    "random_list=[55,25,76,32,98]\n",
    "random_list.sort()\n",
    "print(\"After sort it in ascending order : \")\n",
    "random_list"
   ]
  },
  {
   "cell_type": "code",
   "execution_count": 70,
   "id": "28e2cdb7-56d0-402a-851b-c1cec42c7a72",
   "metadata": {},
   "outputs": [
    {
     "name": "stdout",
     "output_type": "stream",
     "text": [
      "Element at the third index :  jkl\n"
     ]
    }
   ],
   "source": [
    "# 28. Write a code to create a list with strings and print the element at the third index.\n",
    "\n",
    "string_list=[\"abc\",\"def\",\"ghi\",\"jkl\",\"xyz\"]\n",
    "print(\"Element at the third index : \",string_list[3])"
   ]
  },
  {
   "cell_type": "code",
   "execution_count": 71,
   "id": "1f5ab72a-5190-4442-af07-9637e24ea771",
   "metadata": {},
   "outputs": [
    {
     "name": "stdout",
     "output_type": "stream",
     "text": [
      "combine two dictionaries into one\n",
      "\n"
     ]
    },
    {
     "data": {
      "text/plain": [
       "{'name': 'Tirtha Sahu',\n",
       " 'Age': 25,\n",
       " 'address': 'Berhampur',\n",
       " 'Course': 'Data Science'}"
      ]
     },
     "execution_count": 71,
     "metadata": {},
     "output_type": "execute_result"
    }
   ],
   "source": [
    "# 29. Write a code to combine two dictionaries into one and print the result.\n",
    "\n",
    "dict_1={\"name\":\"Tirtha Sahu\",\"Age\":25}\n",
    "dict_2={\"address\":\"Berhampur\",\"Course\":\"Data Science\"}\n",
    "print(\"combine two dictionaries into one\\n\")\n",
    "dict_1.update(dict_2)  #Here in dictionary update() is used for the combine two sets\n",
    "dict_1"
   ]
  },
  {
   "cell_type": "code",
   "execution_count": 72,
   "id": "04e2aaff-19a3-41b8-b913-1812db3d9166",
   "metadata": {},
   "outputs": [
    {
     "name": "stdout",
     "output_type": "stream",
     "text": [
      "List of string :  ['python', 'NLP', 'ML', 'AI']\n",
      "After coverting list of strings into a set :  {'python', 'AI', 'NLP', 'ML'}\n"
     ]
    }
   ],
   "source": [
    "# 30. Write a code to convert a list of strings into a set.\n",
    "\n",
    "listOfString=[\"python\",\"NLP\",\"ML\",\"AI\"]\n",
    "print(\"List of string : \",listOfString)\n",
    "\n",
    "ListToSet=set(listOfString)\n",
    "\n",
    "print(\"After coverting list of strings into a set : \",ListToSet)"
   ]
  },
  {
   "cell_type": "code",
   "execution_count": null,
   "id": "fcee595c-568a-41ea-8731-f661e09cc0fa",
   "metadata": {},
   "outputs": [],
   "source": []
  },
  {
   "cell_type": "code",
   "execution_count": null,
   "id": "e5554a40-5336-4cf3-8fb1-7275ba8ddb68",
   "metadata": {},
   "outputs": [],
   "source": []
  },
  {
   "cell_type": "code",
   "execution_count": null,
   "id": "8f85ffb0-1ed0-4c4f-b0d4-42c503576016",
   "metadata": {},
   "outputs": [],
   "source": []
  },
  {
   "cell_type": "code",
   "execution_count": null,
   "id": "3a35a65a-31be-4a2e-85af-2e5b47820038",
   "metadata": {},
   "outputs": [],
   "source": []
  }
 ],
 "metadata": {
  "kernelspec": {
   "display_name": "Python 3 (ipykernel)",
   "language": "python",
   "name": "python3"
  },
  "language_info": {
   "codemirror_mode": {
    "name": "ipython",
    "version": 3
   },
   "file_extension": ".py",
   "mimetype": "text/x-python",
   "name": "python",
   "nbconvert_exporter": "python",
   "pygments_lexer": "ipython3",
   "version": "3.13.1"
  }
 },
 "nbformat": 4,
 "nbformat_minor": 5
}
